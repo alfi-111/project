{
  "nbformat": 4,
  "nbformat_minor": 0,
  "metadata": {
    "colab": {
      "provenance": []
    },
    "kernelspec": {
      "name": "python3",
      "display_name": "Python 3"
    },
    "language_info": {
      "name": "python"
    }
  },
  "cells": [
    {
      "cell_type": "code",
      "execution_count": 1,
      "metadata": {
        "colab": {
          "base_uri": "https://localhost:8080/",
          "height": 663
        },
        "id": "6PZVGhGeG-EU",
        "outputId": "608d78e0-0ae1-4ad4-df42-d042eb246f7f"
      },
      "outputs": [
        {
          "output_type": "stream",
          "name": "stdout",
          "text": [
            "ফাইল আপলোড করুন:\n"
          ]
        },
        {
          "output_type": "display_data",
          "data": {
            "text/plain": [
              "<IPython.core.display.HTML object>"
            ],
            "text/html": [
              "\n",
              "     <input type=\"file\" id=\"files-64da24e8-526c-4aee-b53d-42f121dc51ba\" name=\"files[]\" multiple disabled\n",
              "        style=\"border:none\" />\n",
              "     <output id=\"result-64da24e8-526c-4aee-b53d-42f121dc51ba\">\n",
              "      Upload widget is only available when the cell has been executed in the\n",
              "      current browser session. Please rerun this cell to enable.\n",
              "      </output>\n",
              "      <script>// Copyright 2017 Google LLC\n",
              "//\n",
              "// Licensed under the Apache License, Version 2.0 (the \"License\");\n",
              "// you may not use this file except in compliance with the License.\n",
              "// You may obtain a copy of the License at\n",
              "//\n",
              "//      http://www.apache.org/licenses/LICENSE-2.0\n",
              "//\n",
              "// Unless required by applicable law or agreed to in writing, software\n",
              "// distributed under the License is distributed on an \"AS IS\" BASIS,\n",
              "// WITHOUT WARRANTIES OR CONDITIONS OF ANY KIND, either express or implied.\n",
              "// See the License for the specific language governing permissions and\n",
              "// limitations under the License.\n",
              "\n",
              "/**\n",
              " * @fileoverview Helpers for google.colab Python module.\n",
              " */\n",
              "(function(scope) {\n",
              "function span(text, styleAttributes = {}) {\n",
              "  const element = document.createElement('span');\n",
              "  element.textContent = text;\n",
              "  for (const key of Object.keys(styleAttributes)) {\n",
              "    element.style[key] = styleAttributes[key];\n",
              "  }\n",
              "  return element;\n",
              "}\n",
              "\n",
              "// Max number of bytes which will be uploaded at a time.\n",
              "const MAX_PAYLOAD_SIZE = 100 * 1024;\n",
              "\n",
              "function _uploadFiles(inputId, outputId) {\n",
              "  const steps = uploadFilesStep(inputId, outputId);\n",
              "  const outputElement = document.getElementById(outputId);\n",
              "  // Cache steps on the outputElement to make it available for the next call\n",
              "  // to uploadFilesContinue from Python.\n",
              "  outputElement.steps = steps;\n",
              "\n",
              "  return _uploadFilesContinue(outputId);\n",
              "}\n",
              "\n",
              "// This is roughly an async generator (not supported in the browser yet),\n",
              "// where there are multiple asynchronous steps and the Python side is going\n",
              "// to poll for completion of each step.\n",
              "// This uses a Promise to block the python side on completion of each step,\n",
              "// then passes the result of the previous step as the input to the next step.\n",
              "function _uploadFilesContinue(outputId) {\n",
              "  const outputElement = document.getElementById(outputId);\n",
              "  const steps = outputElement.steps;\n",
              "\n",
              "  const next = steps.next(outputElement.lastPromiseValue);\n",
              "  return Promise.resolve(next.value.promise).then((value) => {\n",
              "    // Cache the last promise value to make it available to the next\n",
              "    // step of the generator.\n",
              "    outputElement.lastPromiseValue = value;\n",
              "    return next.value.response;\n",
              "  });\n",
              "}\n",
              "\n",
              "/**\n",
              " * Generator function which is called between each async step of the upload\n",
              " * process.\n",
              " * @param {string} inputId Element ID of the input file picker element.\n",
              " * @param {string} outputId Element ID of the output display.\n",
              " * @return {!Iterable<!Object>} Iterable of next steps.\n",
              " */\n",
              "function* uploadFilesStep(inputId, outputId) {\n",
              "  const inputElement = document.getElementById(inputId);\n",
              "  inputElement.disabled = false;\n",
              "\n",
              "  const outputElement = document.getElementById(outputId);\n",
              "  outputElement.innerHTML = '';\n",
              "\n",
              "  const pickedPromise = new Promise((resolve) => {\n",
              "    inputElement.addEventListener('change', (e) => {\n",
              "      resolve(e.target.files);\n",
              "    });\n",
              "  });\n",
              "\n",
              "  const cancel = document.createElement('button');\n",
              "  inputElement.parentElement.appendChild(cancel);\n",
              "  cancel.textContent = 'Cancel upload';\n",
              "  const cancelPromise = new Promise((resolve) => {\n",
              "    cancel.onclick = () => {\n",
              "      resolve(null);\n",
              "    };\n",
              "  });\n",
              "\n",
              "  // Wait for the user to pick the files.\n",
              "  const files = yield {\n",
              "    promise: Promise.race([pickedPromise, cancelPromise]),\n",
              "    response: {\n",
              "      action: 'starting',\n",
              "    }\n",
              "  };\n",
              "\n",
              "  cancel.remove();\n",
              "\n",
              "  // Disable the input element since further picks are not allowed.\n",
              "  inputElement.disabled = true;\n",
              "\n",
              "  if (!files) {\n",
              "    return {\n",
              "      response: {\n",
              "        action: 'complete',\n",
              "      }\n",
              "    };\n",
              "  }\n",
              "\n",
              "  for (const file of files) {\n",
              "    const li = document.createElement('li');\n",
              "    li.append(span(file.name, {fontWeight: 'bold'}));\n",
              "    li.append(span(\n",
              "        `(${file.type || 'n/a'}) - ${file.size} bytes, ` +\n",
              "        `last modified: ${\n",
              "            file.lastModifiedDate ? file.lastModifiedDate.toLocaleDateString() :\n",
              "                                    'n/a'} - `));\n",
              "    const percent = span('0% done');\n",
              "    li.appendChild(percent);\n",
              "\n",
              "    outputElement.appendChild(li);\n",
              "\n",
              "    const fileDataPromise = new Promise((resolve) => {\n",
              "      const reader = new FileReader();\n",
              "      reader.onload = (e) => {\n",
              "        resolve(e.target.result);\n",
              "      };\n",
              "      reader.readAsArrayBuffer(file);\n",
              "    });\n",
              "    // Wait for the data to be ready.\n",
              "    let fileData = yield {\n",
              "      promise: fileDataPromise,\n",
              "      response: {\n",
              "        action: 'continue',\n",
              "      }\n",
              "    };\n",
              "\n",
              "    // Use a chunked sending to avoid message size limits. See b/62115660.\n",
              "    let position = 0;\n",
              "    do {\n",
              "      const length = Math.min(fileData.byteLength - position, MAX_PAYLOAD_SIZE);\n",
              "      const chunk = new Uint8Array(fileData, position, length);\n",
              "      position += length;\n",
              "\n",
              "      const base64 = btoa(String.fromCharCode.apply(null, chunk));\n",
              "      yield {\n",
              "        response: {\n",
              "          action: 'append',\n",
              "          file: file.name,\n",
              "          data: base64,\n",
              "        },\n",
              "      };\n",
              "\n",
              "      let percentDone = fileData.byteLength === 0 ?\n",
              "          100 :\n",
              "          Math.round((position / fileData.byteLength) * 100);\n",
              "      percent.textContent = `${percentDone}% done`;\n",
              "\n",
              "    } while (position < fileData.byteLength);\n",
              "  }\n",
              "\n",
              "  // All done.\n",
              "  yield {\n",
              "    response: {\n",
              "      action: 'complete',\n",
              "    }\n",
              "  };\n",
              "}\n",
              "\n",
              "scope.google = scope.google || {};\n",
              "scope.google.colab = scope.google.colab || {};\n",
              "scope.google.colab._files = {\n",
              "  _uploadFiles,\n",
              "  _uploadFilesContinue,\n",
              "};\n",
              "})(self);\n",
              "</script> "
            ]
          },
          "metadata": {}
        },
        {
          "output_type": "stream",
          "name": "stdout",
          "text": [
            "Saving ExpressionDataPD1_filtered.txt to ExpressionDataPD1_filtered (1).txt\n",
            "\n",
            "ডেটাসেটের প্রথম কয়েকটি সারি:\n",
            "                   id   BS373_N1   BS373_N2      BS375_N1      BS375_N2  \\\n",
            "0              groups  responder  responder  nonresponder  nonresponder   \n",
            "1  ENSG00000007314.10          8          0             0             0   \n",
            "2   ENSG00000086696.9          5          0             0             0   \n",
            "3   ENSG00000105668.6          0          0             4             0   \n",
            "4  ENSG00000105695.13          0          1             0             0   \n",
            "\n",
            "       BS379_N1      BS379_N2   BS381_N1   BS381_N2   BS385_N1  ...  \\\n",
            "0  nonresponder  nonresponder  responder  responder  responder  ...   \n",
            "1             1             0          0          0          3  ...   \n",
            "2             1             9          0          0          2  ...   \n",
            "3             1             0          1          1          2  ...   \n",
            "4             0             1          0          1          1  ...   \n",
            "\n",
            "       BS391_N1      BS391_N2   BS394_N1   BS394_N2   BS395_N1   BS395_N2  \\\n",
            "0  nonresponder  nonresponder  responder  responder  responder  responder   \n",
            "1             8             0          0          0          0          0   \n",
            "2             0             0          3          0          0          0   \n",
            "3             3             0          0          0          0          0   \n",
            "4             7             0          0          0          0          0   \n",
            "\n",
            "       BS409_N1      BS409_N2      BS418_N1      BS418_N2  \n",
            "0  nonresponder  nonresponder  nonresponder  nonresponder  \n",
            "1             0             0             0             0  \n",
            "2             0             0             0             0  \n",
            "3             1             0             2             0  \n",
            "4             0             0             0             1  \n",
            "\n",
            "[5 rows x 21 columns]\n",
            "\n",
            "মডেলের সঠিকতা (Accuracy): 0.50\n"
          ]
        }
      ],
      "source": [
        "# প্রয়োজনীয় লাইব্রেরি ইন্সটলেশন (যদি প্রয়োজন হয়)\n",
        "!pip install pandas scikit-learn --quiet\n",
        "\n",
        "# প্রয়োজনীয় লাইব্রেরি ইমপোর্ট\n",
        "import pandas as pd\n",
        "from sklearn.model_selection import train_test_split\n",
        "from sklearn.ensemble import RandomForestClassifier\n",
        "from sklearn.metrics import accuracy_score\n",
        "from google.colab import files\n",
        "\n",
        "# 1. ডেটাসেট আপলোড করা\n",
        "print(\"ফাইল আপলোড করুন:\")\n",
        "uploaded = files.upload()\n",
        "\n",
        "# ফাইলের নাম সংগ্রহ করা\n",
        "file_path = list(uploaded.keys())[0]\n",
        "\n",
        "# 2. ডেটাসেট লোড করা\n",
        "data = pd.read_csv(file_path, sep='\\t')\n",
        "\n",
        "# 3. ডেটাসেটের প্রথম কয়েকটি সারি দেখা\n",
        "print(\"\\nডেটাসেটের প্রথম কয়েকটি সারি:\")\n",
        "print(data.head())\n",
        "\n",
        "# 4. ডেটা প্রস্তুতি\n",
        "groups = data.iloc[0, 1:]  # গ্রুপের তথ্য\n",
        "data = data.iloc[2:].set_index('id')  # শুধুমাত্র এক্সপ্রেশন ডেটা রেখে ইনডেক্স সেট করা\n",
        "data = data.apply(pd.to_numeric, errors='coerce')  # সংখ্যায় রূপান্তর করা\n",
        "\n",
        "# ইনপুট ফিচার (X) এবং টার্গেট লেবেল (y) প্রস্তুত\n",
        "X = data.T  # ফিচার ডেটা (নমুনা অনুযায়ী ট্রান্সপোজ)\n",
        "y = groups.values  # টার্গেট লেবেল (responder/nonresponder)\n",
        "\n",
        "# 5. ডেটা ট্রেনিং ও টেস্ট সেটে ভাগ করা\n",
        "X_train, X_test, y_train, y_test = train_test_split(X, y, test_size=0.2, random_state=42)\n",
        "\n",
        "# 6. মডেল তৈরি এবং ট্রেনিং\n",
        "model = RandomForestClassifier(random_state=42)\n",
        "model.fit(X_train, y_train)\n",
        "\n",
        "# 7. মডেল টেস্ট এবং একুরেসি গণনা\n",
        "y_pred = model.predict(X_test)\n",
        "accuracy = accuracy_score(y_test, y_pred)\n",
        "\n",
        "# 8. রেজাল্ট প্রিন্ট করা\n",
        "print(f\"\\nমডেলের সঠিকতা (Accuracy): {accuracy:.2f}\")\n"
      ]
    },
    {
      "cell_type": "code",
      "source": [
        "data = data.fillna(data.mean())  # মিসিং ভ্যালু গড় দিয়ে পূরণ\n"
      ],
      "metadata": {
        "id": "BqO0KFH_J-uT"
      },
      "execution_count": 3,
      "outputs": []
    },
    {
      "cell_type": "code",
      "source": [
        "from sklearn.preprocessing import StandardScaler\n",
        "scaler = StandardScaler()\n",
        "X = scaler.fit_transform(X)  # X ডেটা স্কেল করা\n"
      ],
      "metadata": {
        "id": "22_D1vS2KBYT"
      },
      "execution_count": 4,
      "outputs": []
    },
    {
      "cell_type": "code",
      "source": [
        "from sklearn.model_selection import GridSearchCV\n",
        "\n",
        "param_grid = {\n",
        "    'n_estimators': [50, 100, 200],\n",
        "    'max_depth': [10, 20, None],\n",
        "    'min_samples_split': [2, 5, 10]\n",
        "}\n",
        "grid_search = GridSearchCV(RandomForestClassifier(random_state=42), param_grid, cv=5, scoring='accuracy')\n",
        "grid_search.fit(X_train, y_train)\n",
        "best_model = grid_search.best_estimator_\n",
        "print(f\"Best Parameters: {grid_search.best_params_}\")\n"
      ],
      "metadata": {
        "colab": {
          "base_uri": "https://localhost:8080/"
        },
        "id": "F61U0WxUKc8D",
        "outputId": "25775a2d-9b9d-46e9-83c6-4fdb245ce5f4"
      },
      "execution_count": 6,
      "outputs": [
        {
          "output_type": "stream",
          "name": "stdout",
          "text": [
            "Best Parameters: {'max_depth': 10, 'min_samples_split': 2, 'n_estimators': 50}\n"
          ]
        }
      ]
    },
    {
      "cell_type": "code",
      "source": [
        "from sklearn.model_selection import cross_val_score\n",
        "\n",
        "scores = cross_val_score(model, X, y, cv=5, scoring='accuracy')\n",
        "print(f\"Cross-Validation Accuracy: {scores.mean():.2f}\")\n"
      ],
      "metadata": {
        "colab": {
          "base_uri": "https://localhost:8080/"
        },
        "id": "YhXZyBnYLKe0",
        "outputId": "030ee3d9-e829-4818-a56a-d4d219c792b2"
      },
      "execution_count": 8,
      "outputs": [
        {
          "output_type": "stream",
          "name": "stdout",
          "text": [
            "Cross-Validation Accuracy: 0.75\n"
          ]
        }
      ]
    },
    {
      "cell_type": "code",
      "source": [
        "print(f\"NaN ভ্যালুর সংখ্যা (X): {pd.DataFrame(X).isna().sum().sum()}\")\n"
      ],
      "metadata": {
        "colab": {
          "base_uri": "https://localhost:8080/"
        },
        "id": "0ucs5AxlLMpb",
        "outputId": "9fe3607e-d350-445a-f8a3-7c559ffca6e4"
      },
      "execution_count": 11,
      "outputs": [
        {
          "output_type": "stream",
          "name": "stdout",
          "text": [
            "NaN ভ্যালুর সংখ্যা (X): 1\n"
          ]
        }
      ]
    },
    {
      "cell_type": "code",
      "source": [
        "from sklearn.impute import SimpleImputer\n",
        "\n",
        "# মিসিং ভ্যালু গড় দিয়ে পূরণ করা\n",
        "imputer = SimpleImputer(strategy='mean')  # গড় দিয়ে NaN পূরণ\n",
        "X_imputed = imputer.fit_transform(X)  # X ডেটাতে NaN পূরণ\n"
      ],
      "metadata": {
        "id": "AMPMgvdjLrTr"
      },
      "execution_count": 12,
      "outputs": []
    },
    {
      "cell_type": "code",
      "source": [
        "from sklearn.impute import SimpleImputer\n",
        "from sklearn.feature_selection import SelectKBest, f_classif\n",
        "from sklearn.ensemble import RandomForestClassifier\n",
        "from sklearn.model_selection import train_test_split\n",
        "from sklearn.metrics import accuracy_score\n",
        "from imblearn.over_sampling import SMOTE\n",
        "import pandas as pd\n",
        "\n",
        "# 1. NaN পূরণ করা (গড় দিয়ে)\n",
        "imputer = SimpleImputer(strategy='mean')  # NaN পূরণের জন্য Imputer ব্যবহার\n",
        "X_imputed = imputer.fit_transform(X)  # NaN পূরণ করা\n",
        "\n",
        "# নিশ্চিত করা NaN আর নেই\n",
        "print(f\"NaN ভ্যালুর সংখ্যা (X_imputed): {pd.DataFrame(X_imputed).isna().sum().sum()}\")  # 0 আশা করা হচ্ছে\n",
        "\n",
        "# 2. SMOTE দিয়ে ব্যালেন্স করা\n",
        "smote = SMOTE(random_state=42)\n",
        "X_resampled, y_resampled = smote.fit_resample(X_imputed, y)\n",
        "\n",
        "# 3. ফিচার সিলেকশন\n",
        "selector = SelectKBest(score_func=f_classif, k=50)\n",
        "X_selected = selector.fit_transform(X_resampled, y_resampled)\n",
        "\n",
        "# 4. Train-Test Split\n",
        "X_train, X_test, y_train, y_test = train_test_split(X_selected, y_resampled, test_size=0.2, random_state=42)\n",
        "\n",
        "# 5. মডেল তৈরি ও ট্রেনিং\n",
        "model = RandomForestClassifier(random_state=42)\n",
        "model.fit(X_train, y_train)\n",
        "\n",
        "# 6. মডেল টেস্ট এবং একুরেসি গণনা\n",
        "y_pred = model.predict(X_test)\n",
        "accuracy = accuracy_score(y_test, y_pred)\n",
        "\n",
        "# 7. ফলাফল প্রিন্ট করা\n",
        "print(f\"মডেলের সঠিকতা (Accuracy): {accuracy:.2f}\")\n"
      ],
      "metadata": {
        "colab": {
          "base_uri": "https://localhost:8080/"
        },
        "id": "lpvhUBqELxOz",
        "outputId": "ead30d10-198b-4998-ffa5-78556bedcb97"
      },
      "execution_count": 13,
      "outputs": [
        {
          "output_type": "stream",
          "name": "stdout",
          "text": [
            "NaN ভ্যালুর সংখ্যা (X_imputed): 0\n"
          ]
        },
        {
          "output_type": "stream",
          "name": "stderr",
          "text": [
            "/usr/local/lib/python3.10/dist-packages/sklearn/base.py:474: FutureWarning: `BaseEstimator._validate_data` is deprecated in 1.6 and will be removed in 1.7. Use `sklearn.utils.validation.validate_data` instead. This function becomes public and is part of the scikit-learn developer API.\n",
            "  warnings.warn(\n",
            "/usr/local/lib/python3.10/dist-packages/sklearn/utils/_tags.py:354: FutureWarning: The SMOTE or classes from which it inherits use `_get_tags` and `_more_tags`. Please define the `__sklearn_tags__` method, or inherit from `sklearn.base.BaseEstimator` and/or other appropriate mixins such as `sklearn.base.TransformerMixin`, `sklearn.base.ClassifierMixin`, `sklearn.base.RegressorMixin`, and `sklearn.base.OutlierMixin`. From scikit-learn 1.7, not defining `__sklearn_tags__` will raise an error.\n",
            "  warnings.warn(\n"
          ]
        },
        {
          "output_type": "stream",
          "name": "stdout",
          "text": [
            "মডেলের সঠিকতা (Accuracy): 0.75\n"
          ]
        }
      ]
    }
  ]
}